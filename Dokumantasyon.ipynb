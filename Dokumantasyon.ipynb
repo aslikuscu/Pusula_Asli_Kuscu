{
 "cells": [
  {
   "cell_type": "markdown",
   "id": "95822791-8ba7-4e64-b2db-e6ed77f107d1",
   "metadata": {},
   "source": [
    "# Veri Analizi ve Ön İşleme Dokümantasyonu"
   ]
  },
  {
   "cell_type": "markdown",
   "id": "6e44f230-802c-49dc-95b6-e14fc5225071",
   "metadata": {},
   "source": [
    "## 1. Veri Setinin Tanıtımı"
   ]
  },
  {
   "cell_type": "markdown",
   "id": "43093573-7361-40cd-ac7a-6bf73459480a",
   "metadata": {},
   "source": [
    "##### Veri seti, yan etkilerle ilgili kullanıcı bilgilerini içermektedir. Toplam 2357 giriş ve 19 sütun bulunmaktadır."
   ]
  },
  {
   "cell_type": "markdown",
   "id": "56379106-1dd7-435c-ad7f-8bf1db0cf59d",
   "metadata": {},
   "source": [
    "##### Sütunlar:"
   ]
  },
  {
   "cell_type": "markdown",
   "id": "e3fc6e5e-9ba2-429b-9476-9818fc1934df",
   "metadata": {},
   "source": [
    "Kullanici_id: Kullanıcı kimliği\n",
    "Cinsiyet: Kullanıcının cinsiyeti\n",
    "Dogum_Tarihi: Kullanıcının doğum tarihi\n",
    "Uyruk: Kullanıcının uyruk bilgisi\n",
    "Il: Kullanıcının yaşadığı il\n",
    "Ilac_Adi: Kullanılan ilaç adı\n",
    "Ilac_Baslangic_Tarihi: İlacın başlangıç tarihi\n",
    "Ilac_Bitis_Tarihi: İlacın bitiş tarihi\n",
    "Yan_Etki: Kullanılan ilacın yan etkileri\n",
    "Yan_Etki_Bildirim_Tarihi: Yan etkilerin bildirildiği tarih\n",
    "Alerjilerim: Kullanıcının alerji bilgileri\n",
    "Kronik Hastaliklarim: Kullanıcının kronik hastalıkları\n",
    "Baba Kronik Hastaliklari: Babasının kronik hastalıkları\n",
    "Anne Kronik Hastaliklari: Annesinin kronik hastalıkları\n",
    "Kiz Kardes Kronik Hastaliklari: Kız kardeşinin kronik hastalıkları\n",
    "Erkek Kardes Kronik Hastaliklari: Erkek kardeşinin kronik hastalıkları\n",
    "Kan Grubu: Kullanıcının kan grubu\n",
    "Kilo: Kullanıcının kilosu\n",
    "Boy: Kullanıcının boyu"
   ]
  },
  {
   "cell_type": "markdown",
   "id": "bb3d2a60-bb8a-4ebc-a6af-5abfe8fe17b8",
   "metadata": {},
   "source": [
    "## 2. EDA Bulguları"
   ]
  },
  {
   "cell_type": "markdown",
   "id": "606d6d51-ceee-4f11-8f24-3c0cc09829d5",
   "metadata": {},
   "source": [
    "#### Veri setinde yapılan ön incelemeler sonucunda aşağıdaki bulgular elde edilmiştir:"
   ]
  },
  {
   "cell_type": "markdown",
   "id": "41f84818-7924-4f77-a08e-2191bff5810f",
   "metadata": {},
   "source": [
    "##### Genel Bilgiler"
   ]
  },
  {
   "cell_type": "code",
   "execution_count": null,
   "id": "91ef6d70-063a-4092-b837-e2fe22dba52e",
   "metadata": {},
   "outputs": [],
   "source": [
    "print(df.info())"
   ]
  },
  {
   "cell_type": "markdown",
   "id": "acc02d5b-ba7d-4920-8add-95fa7a08f59b",
   "metadata": {},
   "source": [
    "Toplam 2357 kayıt mevcuttur.\n",
    "Cinsiyet, Il, Alerjilerim, Kronik Hastaliklarim, Baba Kronik Hastaliklari, Anne Kronik Hastaliklari, Kiz Kardes Kronik Hastaliklari, Erkek Kardes Kronik Hastaliklari, Kan Grubu gibi sütunlarda eksik değerler bulunmaktadır."
   ]
  },
  {
   "cell_type": "markdown",
   "id": "2355442e-23d7-492e-b17f-08f0b42aed10",
   "metadata": {},
   "source": [
    "##### Eksik Değerler"
   ]
  },
  {
   "cell_type": "code",
   "execution_count": null,
   "id": "7dc92d24-0243-4de6-ae01-8f877bed2d98",
   "metadata": {},
   "outputs": [],
   "source": [
    "df.isnull().sum()"
   ]
  },
  {
   "cell_type": "markdown",
   "id": "e83a579b-6c05-41e1-b36a-17554f2c1e20",
   "metadata": {},
   "source": [
    "Cinsiyet: 778 eksik\n",
    "Il: 227 eksik\n",
    "Alerjilerim: 484 eksik\n",
    "Kilo: 293 eksik\n",
    "Boy: 114 eksik"
   ]
  },
  {
   "cell_type": "markdown",
   "id": "167002fe-53a6-4fd7-801f-34c9cd737814",
   "metadata": {},
   "source": [
    "##### Aykırı Değerlerin Kontrolü"
   ]
  },
  {
   "cell_type": "code",
   "execution_count": null,
   "id": "c154e156-4bfe-4313-b98b-b0c67d6e150c",
   "metadata": {},
   "outputs": [],
   "source": [
    "print(df['Kilo'].describe())\n",
    "print(df['Boy'].describe())"
   ]
  },
  {
   "cell_type": "markdown",
   "id": "c33362a0-f169-444a-9975-bc9da41cd402",
   "metadata": {},
   "source": [
    "Kilo: Ortalama 80.86, Minimum 50, Maksimum 110\n",
    "Boy: Ortalama 174.64, Minimum 145, Maksimum 203"
   ]
  },
  {
   "cell_type": "markdown",
   "id": "3ec4c848-d40f-456a-94b2-f02916059c46",
   "metadata": {},
   "source": [
    "##### Tarih Verilerine Dayalı Yeni Özellikler"
   ]
  },
  {
   "cell_type": "code",
   "execution_count": null,
   "id": "2a942663-e55b-4ac5-a223-7b84e93e0b96",
   "metadata": {},
   "outputs": [],
   "source": [
    "df['Ilac_Kullanim_Suresi'] = (df['Ilac_Bitis_Tarihi'] - df['Ilac_Baslangic_Tarihi']).dt.days"
   ]
  },
  {
   "cell_type": "markdown",
   "id": "2aaa92a8-42cd-41f2-b5e7-710cb167e540",
   "metadata": {},
   "source": [
    "Kullanım süresi gün cinsinden hesaplanmıştır."
   ]
  },
  {
   "cell_type": "markdown",
   "id": "d3750e12-b03a-47bf-bb69-bd5c6307c790",
   "metadata": {},
   "source": [
    "## 3. Veri Ön İşleme Adımları"
   ]
  },
  {
   "cell_type": "markdown",
   "id": "224594a2-6212-44c2-90a2-60ac8188d04e",
   "metadata": {},
   "source": [
    "### Kategorik ve Sayısal Sütunların Belirlenmesi"
   ]
  },
  {
   "cell_type": "code",
   "execution_count": null,
   "id": "112dc7fa-a797-4c60-b6cc-8985aba177ee",
   "metadata": {},
   "outputs": [],
   "source": [
    "categorical_cols = ['Cinsiyet', 'Uyruk', 'Il', 'Ilac_Adi', 'Yan_Etki', \n",
    "                    'Alerjilerim', 'Kronik Hastaliklarim', 'Baba Kronik Hastaliklari', \n",
    "                    'Anne Kronik Hastaliklari', 'Kiz Kardes Kronik Hastaliklari', \n",
    "                    'Erkek Kardes Kronik Hastaliklari', 'Kan Grubu']\n",
    "\n",
    "numerical_cols = ['Kilo', 'Boy']"
   ]
  },
  {
   "cell_type": "markdown",
   "id": "66d78c48-85a0-47e7-899c-e8f5f0abaa8f",
   "metadata": {},
   "source": [
    "### Eksik Veri Doldurma"
   ]
  },
  {
   "cell_type": "markdown",
   "id": "174d651a-6eca-42b2-b4b3-c1fff1222728",
   "metadata": {},
   "source": [
    "##### Kategorik veriler için en sık görülen değer ile doldurma:"
   ]
  },
  {
   "cell_type": "code",
   "execution_count": null,
   "id": "e8757044-82cf-47cb-b002-cb481d86fc39",
   "metadata": {},
   "outputs": [],
   "source": [
    "categorical_imputer = SimpleImputer(strategy='most_frequent')"
   ]
  },
  {
   "cell_type": "markdown",
   "id": "40debf8d-df30-4d96-bec2-1f3aeaa3d590",
   "metadata": {},
   "source": [
    "##### Sayısal veriler için ortalama ile doldurma:"
   ]
  },
  {
   "cell_type": "code",
   "execution_count": null,
   "id": "16267609-8e05-4fcd-9dc5-68e3ecd5a882",
   "metadata": {},
   "outputs": [],
   "source": [
    "numerical_imputer = SimpleImputer(strategy='mean')"
   ]
  },
  {
   "cell_type": "markdown",
   "id": "703ea24e-a5d1-49a9-8b2c-53521118d540",
   "metadata": {},
   "source": [
    "### Veri Dönüşüm Adımları"
   ]
  },
  {
   "cell_type": "markdown",
   "id": "ca545bd2-2e5f-447a-8b4b-07fb115034a7",
   "metadata": {},
   "source": [
    "##### Sayısal ve kategorik veriler için dönüşümler:"
   ]
  },
  {
   "cell_type": "code",
   "execution_count": null,
   "id": "54653244-0281-4005-b44d-53651743030e",
   "metadata": {},
   "outputs": [],
   "source": [
    "preprocessor = ColumnTransformer(\n",
    "    transformers=[\n",
    "        ('num', numerical_imputer, numerical_cols),\n",
    "        ('cat', categorical_imputer, categorical_cols)\n",
    "    ]\n",
    ")"
   ]
  },
  {
   "cell_type": "markdown",
   "id": "2ebe2cd6-d44d-49ca-88b7-7b7e84df909c",
   "metadata": {},
   "source": [
    "### One-Hot Encoding ve Ölçeklendirme"
   ]
  },
  {
   "cell_type": "markdown",
   "id": "f295b5f7-66be-4534-a2d1-a7f03cd5cb4d",
   "metadata": {},
   "source": [
    "##### Kategorik verilerin kodlanması:"
   ]
  },
  {
   "cell_type": "code",
   "execution_count": null,
   "id": "185d1e54-9cc9-464f-83dd-6f246866cabc",
   "metadata": {},
   "outputs": [],
   "source": [
    "onehot_encoder = OneHotEncoder(handle_unknown='ignore', sparse_output=True)"
   ]
  },
  {
   "cell_type": "markdown",
   "id": "20bdcb79-9dcf-4dc9-88d2-949afcbfd537",
   "metadata": {},
   "source": [
    "##### Sayısal verilerin standartlaştırılması:"
   ]
  },
  {
   "cell_type": "code",
   "execution_count": null,
   "id": "8d10f1c8-96a6-4616-990e-569735674dbd",
   "metadata": {},
   "outputs": [],
   "source": [
    "scaler = StandardScaler(with_mean=False)"
   ]
  },
  {
   "cell_type": "markdown",
   "id": "7e2ce00c-9a85-4d42-adc9-fae6cf7c2f2a",
   "metadata": {},
   "source": [
    "### Pipeline Oluşturma"
   ]
  },
  {
   "cell_type": "markdown",
   "id": "9877e134-aaab-40c4-8865-d144abb86e25",
   "metadata": {},
   "source": [
    "##### Tüm işlem adımlarını sıralı bir şekilde uygulamak için pipeline oluşturulmuştur:"
   ]
  },
  {
   "cell_type": "code",
   "execution_count": null,
   "id": "c3534233-6e13-4855-8a5b-4fff94a1124a",
   "metadata": {},
   "outputs": [],
   "source": [
    "pipeline = Pipeline(steps=[\n",
    "    ('preprocessor', preprocessor),\n",
    "    ('onehot', onehot_encoder),\n",
    "    ('scaler', scaler)\n",
    "])"
   ]
  },
  {
   "cell_type": "markdown",
   "id": "e277a12c-6af0-4d85-b3f8-5b54734ad11f",
   "metadata": {},
   "source": [
    "### Veri İşleme"
   ]
  },
  {
   "cell_type": "markdown",
   "id": "4ced9186-5614-4305-81ad-9fb9aa3098b4",
   "metadata": {},
   "source": [
    "##### Pipeline'ı veri setine uygulayarak işlenmiş veriyi elde etme:"
   ]
  },
  {
   "cell_type": "code",
   "execution_count": null,
   "id": "d8cdf761-a6c1-4654-affe-661c44d907c5",
   "metadata": {},
   "outputs": [],
   "source": [
    "X_processed = pipeline.fit_transform(df)"
   ]
  },
  {
   "cell_type": "markdown",
   "id": "3063bea4-ec5b-47c4-916d-011da34dd968",
   "metadata": {},
   "source": [
    "### İşlenmiş Veri Sonuçları"
   ]
  },
  {
   "cell_type": "code",
   "execution_count": null,
   "id": "b0680032-2c81-4494-9f34-084cad707e46",
   "metadata": {},
   "outputs": [],
   "source": [
    "print(X_processed)"
   ]
  },
  {
   "cell_type": "markdown",
   "id": "d729a697-e863-478f-87f0-b9eeb36148bd",
   "metadata": {},
   "source": [
    "##### İşlenmiş veri, modelleme için hazır hale getirilmiştir."
   ]
  }
 ],
 "metadata": {
  "kernelspec": {
   "display_name": "Python 3 (ipykernel)",
   "language": "python",
   "name": "python3"
  },
  "language_info": {
   "codemirror_mode": {
    "name": "ipython",
    "version": 3
   },
   "file_extension": ".py",
   "mimetype": "text/x-python",
   "name": "python",
   "nbconvert_exporter": "python",
   "pygments_lexer": "ipython3",
   "version": "3.11.7"
  }
 },
 "nbformat": 4,
 "nbformat_minor": 5
}
