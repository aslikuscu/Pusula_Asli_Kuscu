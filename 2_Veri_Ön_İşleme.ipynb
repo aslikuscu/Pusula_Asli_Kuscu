{
 "cells": [
  {
   "cell_type": "code",
   "execution_count": 35,
   "id": "c8ff4511-2f3e-44f3-a804-46d85121b625",
   "metadata": {},
   "outputs": [],
   "source": [
    "# Pandas kütüphanesini veri işleme için içe aktarıyoruz\n",
    "import pandas as pd\n",
    "\n",
    "# Eksik veri doldurma işlemi için SimpleImputer sınıfını, kategorik verilerin kodlanması için OneHotEncoder ve \n",
    "# sayısal verilerin ölçeklendirilmesi için StandardScaler sınıfını içe aktarıyoruz\n",
    "from sklearn.impute import SimpleImputer\n",
    "from sklearn.preprocessing import OneHotEncoder, StandardScaler\n",
    "\n",
    "# Farklı sütunlar için veri dönüşüm adımlarını uygulamak için ColumnTransformer sınıfını içe aktarıyoruz\n",
    "# Veri işleme adımlarını bir pipeline içinde düzenlemek için Pipeline sınıfını kullanıyoruz\n",
    "from sklearn.compose import ColumnTransformer\n",
    "from sklearn.pipeline import Pipeline"
   ]
  },
  {
   "cell_type": "code",
   "execution_count": 36,
   "id": "5b6e9771-b819-432e-8538-ca247285be0d",
   "metadata": {},
   "outputs": [],
   "source": [
    "# Veri setini 'side_effect_data.csv' dosyasından pandas ile okuyoruz\n",
    "df = pd.read_csv('side_effect_data.csv')"
   ]
  },
  {
   "cell_type": "code",
   "execution_count": 37,
   "id": "4c1df31f-e4c8-4004-bd97-6116130b09cb",
   "metadata": {},
   "outputs": [
    {
     "name": "stdout",
     "output_type": "stream",
     "text": [
      "<class 'pandas.core.frame.DataFrame'>\n",
      "RangeIndex: 2357 entries, 0 to 2356\n",
      "Data columns (total 19 columns):\n",
      " #   Column                            Non-Null Count  Dtype  \n",
      "---  ------                            --------------  -----  \n",
      " 0   Kullanici_id                      2357 non-null   int64  \n",
      " 1   Cinsiyet                          1579 non-null   object \n",
      " 2   Dogum_Tarihi                      2357 non-null   object \n",
      " 3   Uyruk                             2357 non-null   object \n",
      " 4   Il                                2130 non-null   object \n",
      " 5   Ilac_Adi                          2357 non-null   object \n",
      " 6   Ilac_Baslangic_Tarihi             2357 non-null   object \n",
      " 7   Ilac_Bitis_Tarihi                 2357 non-null   object \n",
      " 8   Yan_Etki                          2357 non-null   object \n",
      " 9   Yan_Etki_Bildirim_Tarihi          2357 non-null   object \n",
      " 10  Alerjilerim                       1873 non-null   object \n",
      " 11  Kronik Hastaliklarim              1965 non-null   object \n",
      " 12  Baba Kronik Hastaliklari          2201 non-null   object \n",
      " 13  Anne Kronik Hastaliklari          2140 non-null   object \n",
      " 14  Kiz Kardes Kronik Hastaliklari    2260 non-null   object \n",
      " 15  Erkek Kardes Kronik Hastaliklari  2236 non-null   object \n",
      " 16  Kan Grubu                         2010 non-null   object \n",
      " 17  Kilo                              2064 non-null   float64\n",
      " 18  Boy                               2243 non-null   float64\n",
      "dtypes: float64(2), int64(1), object(16)\n",
      "memory usage: 350.0+ KB\n",
      "None\n"
     ]
    }
   ],
   "source": [
    "# Veri seti hakkında genel bilgi almak için df.info() fonksiyonunu kullanıyoruz\n",
    "# Bu işlem sütun isimleri, veri tipleri ve eksik veri olup olmadığı gibi bilgileri gösterir\n",
    "print(df.info())"
   ]
  },
  {
   "cell_type": "code",
   "execution_count": 38,
   "id": "f6ae4e56-d850-453a-b385-694aef1ffd4f",
   "metadata": {},
   "outputs": [],
   "source": [
    "df['Dogum_Tarihi'] = pd.to_datetime(df['Dogum_Tarihi'], errors='coerce')\n",
    "df['Ilac_Baslangic_Tarihi'] = pd.to_datetime(df['Ilac_Baslangic_Tarihi'], errors='coerce')\n",
    "df['Ilac_Bitis_Tarihi'] = pd.to_datetime(df['Ilac_Bitis_Tarihi'], errors='coerce')"
   ]
  },
  {
   "cell_type": "code",
   "execution_count": 39,
   "id": "51324655-2a29-4266-99e1-28eac6e74754",
   "metadata": {},
   "outputs": [
    {
     "name": "stdout",
     "output_type": "stream",
     "text": [
      "<class 'pandas.core.frame.DataFrame'>\n",
      "RangeIndex: 2357 entries, 0 to 2356\n",
      "Data columns (total 19 columns):\n",
      " #   Column                            Non-Null Count  Dtype         \n",
      "---  ------                            --------------  -----         \n",
      " 0   Kullanici_id                      2357 non-null   int64         \n",
      " 1   Cinsiyet                          1579 non-null   object        \n",
      " 2   Dogum_Tarihi                      2357 non-null   datetime64[ns]\n",
      " 3   Uyruk                             2357 non-null   object        \n",
      " 4   Il                                2130 non-null   object        \n",
      " 5   Ilac_Adi                          2357 non-null   object        \n",
      " 6   Ilac_Baslangic_Tarihi             2357 non-null   datetime64[ns]\n",
      " 7   Ilac_Bitis_Tarihi                 2357 non-null   datetime64[ns]\n",
      " 8   Yan_Etki                          2357 non-null   object        \n",
      " 9   Yan_Etki_Bildirim_Tarihi          2357 non-null   object        \n",
      " 10  Alerjilerim                       1873 non-null   object        \n",
      " 11  Kronik Hastaliklarim              1965 non-null   object        \n",
      " 12  Baba Kronik Hastaliklari          2201 non-null   object        \n",
      " 13  Anne Kronik Hastaliklari          2140 non-null   object        \n",
      " 14  Kiz Kardes Kronik Hastaliklari    2260 non-null   object        \n",
      " 15  Erkek Kardes Kronik Hastaliklari  2236 non-null   object        \n",
      " 16  Kan Grubu                         2010 non-null   object        \n",
      " 17  Kilo                              2064 non-null   float64       \n",
      " 18  Boy                               2243 non-null   float64       \n",
      "dtypes: datetime64[ns](3), float64(2), int64(1), object(13)\n",
      "memory usage: 350.0+ KB\n"
     ]
    }
   ],
   "source": [
    "df.info()"
   ]
  },
  {
   "cell_type": "code",
   "execution_count": 40,
   "id": "3a6ae31a-c04c-4743-b1dd-a9655b3b9ee7",
   "metadata": {},
   "outputs": [
    {
     "data": {
      "text/plain": [
       "Kullanici_id                          0\n",
       "Cinsiyet                            778\n",
       "Dogum_Tarihi                          0\n",
       "Uyruk                                 0\n",
       "Il                                  227\n",
       "Ilac_Adi                              0\n",
       "Ilac_Baslangic_Tarihi                 0\n",
       "Ilac_Bitis_Tarihi                     0\n",
       "Yan_Etki                              0\n",
       "Yan_Etki_Bildirim_Tarihi              0\n",
       "Alerjilerim                         484\n",
       "Kronik Hastaliklarim                392\n",
       "Baba Kronik Hastaliklari            156\n",
       "Anne Kronik Hastaliklari            217\n",
       "Kiz Kardes Kronik Hastaliklari       97\n",
       "Erkek Kardes Kronik Hastaliklari    121\n",
       "Kan Grubu                           347\n",
       "Kilo                                293\n",
       "Boy                                 114\n",
       "dtype: int64"
      ]
     },
     "execution_count": 40,
     "metadata": {},
     "output_type": "execute_result"
    }
   ],
   "source": [
    "# Veri setinde her sütundaki eksik değerlerin sayısını görmek için isnull().sum() fonksiyonunu kullanıyoruz\n",
    "df.isnull().sum()"
   ]
  },
  {
   "cell_type": "code",
   "execution_count": 50,
   "id": "06af2c98-b80f-466d-89ba-ccf38270e84d",
   "metadata": {},
   "outputs": [],
   "source": [
    "# eksik veri doldurma\n",
    "\n",
    "# Kategorik değişkenlerde eksik değerleri en sık görülen değerle dolduruyoruz\n",
    "df['Cinsiyet'] = df['Cinsiyet'].fillna(df['Cinsiyet'].mode()[0])\n",
    "df['Il'] = df['Il'].fillna(df['Il'].mode()[0])\n",
    "df['Alerjilerim'] = df['Alerjilerim'].fillna(df['Alerjilerim'].mode()[0])\n",
    "df['Kronik Hastaliklarim'] = df['Kronik Hastaliklarim'].fillna(df['Kronik Hastaliklarim'].mode()[0])\n",
    "df['Baba Kronik Hastaliklari'] = df['Baba Kronik Hastaliklari'].fillna(df['Baba Kronik Hastaliklari'].mode()[0])\n",
    "df['Anne Kronik Hastaliklari'] = df['Anne Kronik Hastaliklari'].fillna(df['Anne Kronik Hastaliklari'].mode()[0])\n",
    "df['Kiz Kardes Kronik Hastaliklari'] = df['Kiz Kardes Kronik Hastaliklari'].fillna(df['Kiz Kardes Kronik Hastaliklari'].mode()[0])\n",
    "df['Erkek Kardes Kronik Hastaliklari'] = df['Erkek Kardes Kronik Hastaliklari'].fillna(df['Erkek Kardes Kronik Hastaliklari'].mode()[0])\n",
    "df['Kan Grubu'] = df['Kan Grubu'].fillna(df['Kan Grubu'].mode()[0])\n",
    "\n",
    "# Sayısal değişkenlerde eksik değerleri ortalama ile dolduruyoruz\n",
    "df['Kilo'] = df['Kilo'].fillna(df['Kilo'].mean())\n",
    "df['Boy'] = df['Boy'].fillna(df['Boy'].mean())"
   ]
  },
  {
   "cell_type": "code",
   "execution_count": 51,
   "id": "2b6538de-e652-4466-b623-4d04c792e1c5",
   "metadata": {},
   "outputs": [
    {
     "data": {
      "text/plain": [
       "Kullanici_id                        0\n",
       "Cinsiyet                            0\n",
       "Dogum_Tarihi                        0\n",
       "Uyruk                               0\n",
       "Il                                  0\n",
       "Ilac_Adi                            0\n",
       "Ilac_Baslangic_Tarihi               0\n",
       "Ilac_Bitis_Tarihi                   0\n",
       "Yan_Etki                            0\n",
       "Yan_Etki_Bildirim_Tarihi            0\n",
       "Alerjilerim                         0\n",
       "Kronik Hastaliklarim                0\n",
       "Baba Kronik Hastaliklari            0\n",
       "Anne Kronik Hastaliklari            0\n",
       "Kiz Kardes Kronik Hastaliklari      0\n",
       "Erkek Kardes Kronik Hastaliklari    0\n",
       "Kan Grubu                           0\n",
       "Kilo                                0\n",
       "Boy                                 0\n",
       "Ilac_Kullanim_Suresi                0\n",
       "dtype: int64"
      ]
     },
     "execution_count": 51,
     "metadata": {},
     "output_type": "execute_result"
    }
   ],
   "source": [
    "#kontrol\n",
    "\n",
    "df.isnull().sum()"
   ]
  },
  {
   "cell_type": "code",
   "execution_count": 42,
   "id": "e39ed6c7-5b4f-4929-b9f9-7f1a518205de",
   "metadata": {},
   "outputs": [
    {
     "name": "stdout",
     "output_type": "stream",
     "text": [
      "count    2064.000000\n",
      "mean       80.863857\n",
      "std        18.635269\n",
      "min        50.000000\n",
      "25%        65.000000\n",
      "50%        83.000000\n",
      "75%        96.000000\n",
      "max       110.000000\n",
      "Name: Kilo, dtype: float64\n",
      "count    2243.000000\n",
      "mean      174.638431\n",
      "std        16.516552\n",
      "min       145.000000\n",
      "25%       160.000000\n",
      "50%       176.000000\n",
      "75%       187.000000\n",
      "max       203.000000\n",
      "Name: Boy, dtype: float64\n"
     ]
    }
   ],
   "source": [
    "# Aykırı Değerlerin Kontrolü:\n",
    "\n",
    "print(df['Kilo'].describe())\n",
    "print(df['Boy'].describe())"
   ]
  },
  {
   "cell_type": "code",
   "execution_count": 43,
   "id": "b053036f-541c-44d6-b8a4-a000f5cf2a7a",
   "metadata": {},
   "outputs": [],
   "source": [
    "# Tarih Verilerine Dayalı Yeni Özellikler Oluşturma:\n",
    "\n",
    "df['Ilac_Kullanim_Suresi'] = (df['Ilac_Bitis_Tarihi'] - df['Ilac_Baslangic_Tarihi']).dt.days"
   ]
  },
  {
   "cell_type": "code",
   "execution_count": 44,
   "id": "3345a3d6-5255-4dc4-a1df-68a0e3ce0dd8",
   "metadata": {},
   "outputs": [],
   "source": [
    "# Kategorik veri içeren sütunları categorical_cols listesinde topluyoruz\n",
    "categorical_cols = ['Cinsiyet', 'Uyruk', 'Il', 'Ilac_Adi', 'Yan_Etki', 'Alerjilerim', \n",
    "                    'Kronik Hastaliklarim', 'Baba Kronik Hastaliklari', \n",
    "                    'Anne Kronik Hastaliklari', 'Kiz Kardes Kronik Hastaliklari', \n",
    "                    'Erkek Kardes Kronik Hastaliklari', 'Kan Grubu']\n",
    "\n",
    "# Sayısal veri içeren sütunları numerical_cols listesinde topluyoruz\n",
    "numerical_cols = ['Kilo', 'Boy']"
   ]
  },
  {
   "cell_type": "code",
   "execution_count": 45,
   "id": "2f94e8af-4762-4333-9123-aef517b85dd8",
   "metadata": {},
   "outputs": [],
   "source": [
    "# Kategorik verilerde eksik olan değerleri en sık görülen değerle doldurmak için SimpleImputer kullanıyoruz\n",
    "categorical_imputer = SimpleImputer(strategy='most_frequent')\n",
    "\n",
    "# Sayısal verilerde eksik olan değerleri ortalama ile doldurmak için SimpleImputer kullanıyoruz\n",
    "numerical_imputer = SimpleImputer(strategy='mean')"
   ]
  },
  {
   "cell_type": "code",
   "execution_count": 46,
   "id": "c0c42f3c-0c35-4f6d-8642-382e010a314b",
   "metadata": {},
   "outputs": [],
   "source": [
    "# Sayısal ve kategorik sütunlara farklı veri dönüşüm adımlarını uygulamak için ColumnTransformer kullanıyoruz\n",
    "# Sayısal sütunlara numerical_imputer, kategorik sütunlara categorical_imputer uygulanacak\n",
    "preprocessor = ColumnTransformer(\n",
    "    transformers=[\n",
    "        ('num', numerical_imputer, numerical_cols),  # Sayısal sütunlara ortalama ile doldurma\n",
    "        ('cat', categorical_imputer, categorical_cols)  # Kategorik sütunlara en sık görülen değer ile doldurma\n",
    "    ]\n",
    ")"
   ]
  },
  {
   "cell_type": "code",
   "execution_count": 47,
   "id": "e14d7e6a-2d49-4baf-89da-a81dcb1c5709",
   "metadata": {},
   "outputs": [],
   "source": [
    "# Kategorik verileri OneHotEncoder ile kodluyoruz, bilinmeyen kategorileri göz ardı ediyoruz ve sparse matris döndürüyoruz\n",
    "onehot_encoder = OneHotEncoder(handle_unknown='ignore', sparse_output=True)\n",
    "\n",
    "# Sayısal verileri ölçeklendirmek için StandardScaler kullanıyoruz, ortalamayı çıkarmadan standartlaştırma yapıyoruz\n",
    "scaler = StandardScaler(with_mean=False)"
   ]
  },
  {
   "cell_type": "code",
   "execution_count": 48,
   "id": "021da25f-70a4-42b5-8395-0df57e452cdd",
   "metadata": {},
   "outputs": [],
   "source": [
    "# Veri işleme adımlarını sıralı bir şekilde uygulamak için Pipeline oluşturuyoruz\n",
    "# İlk adımda eksik verileri dolduruyoruz (preprocessor), \n",
    "# ardından kategorik verileri onehot_encoder ile kodluyoruz ve \n",
    "# son olarak sayısal verileri scaler ile standartlaştırıyoruz\n",
    "pipeline = Pipeline(steps=[\n",
    "    ('preprocessor', preprocessor),  # Eksik verileri doldurma\n",
    "    ('onehot', onehot_encoder),      # Kategorik verileri OneHotEncoder ile kodlama\n",
    "    ('scaler', scaler)               # Sayısal verileri ölçeklendirme\n",
    "])"
   ]
  },
  {
   "cell_type": "code",
   "execution_count": 49,
   "id": "0ba83fd7-c5d7-4f6a-ab86-c753369f1250",
   "metadata": {},
   "outputs": [
    {
     "name": "stdout",
     "output_type": "stream",
     "text": [
      "  (0, 49)\t11.817543051785101\n",
      "  (0, 90)\t5.246178389074344\n",
      "  (0, 100)\t2.1822670912464415\n",
      "  (0, 101)\t1.0\n",
      "  (0, 106)\t3.774888509166798\n",
      "  (0, 253)\t11.487042266869796\n",
      "  (0, 278)\t4.022418580048886\n",
      "  (0, 291)\t8.920737570541114\n",
      "  (0, 350)\t9.22987506717997\n",
      "  (0, 428)\t7.153270754735845\n",
      "  (0, 531)\t5.8908434332063635\n",
      "  (0, 654)\t11.817543051785101\n",
      "  (0, 742)\t8.920737570541114\n",
      "  (0, 754)\t3.3504594476069705\n",
      "  (1, 29)\t6.808045441229919\n",
      "  (1, 83)\t4.641868768273212\n",
      "  (1, 100)\t2.1822670912464415\n",
      "  (1, 101)\t1.0\n",
      "  (1, 114)\t3.630065254475365\n",
      "  (1, 183)\t14.050686244360296\n",
      "  (1, 287)\t3.5564973046733805\n",
      "  (1, 314)\t5.8908434332063635\n",
      "  (1, 318)\t2.53791463130529\n",
      "  (1, 427)\t8.386785180150857\n",
      "  (1, 527)\t7.388315419102405\n",
      "  :\t:\n",
      "  (2355, 101)\t1.0\n",
      "  (2355, 110)\t4.761548146925872\n",
      "  (2355, 173)\t10.399316587060195\n",
      "  (2355, 270)\t5.810991392003452\n",
      "  (2355, 312)\t5.697326791905631\n",
      "  (2355, 318)\t2.53791463130529\n",
      "  (2355, 400)\t3.43752591578037\n",
      "  (2355, 542)\t8.267885482734071\n",
      "  (2355, 643)\t13.502341959185365\n",
      "  (2355, 670)\t9.960854406988226\n",
      "  (2355, 752)\t2.1336197555382315\n",
      "  (2356, 26)\t10.399316587060195\n",
      "  (2356, 79)\t6.248451350759063\n",
      "  (2356, 99)\t2.1822670912464415\n",
      "  (2356, 101)\t1.0\n",
      "  (2356, 108)\t4.1752994618619095\n",
      "  (2356, 255)\t11.487042266869796\n",
      "  (2356, 277)\t5.850490724397765\n",
      "  (2356, 294)\t2.2930988498201628\n",
      "  (2356, 318)\t2.53791463130529\n",
      "  (2356, 471)\t9.960854406988226\n",
      "  (2356, 528)\t8.154001028821199\n",
      "  (2356, 572)\t3.16559831039796\n",
      "  (2356, 698)\t9.574184046956699\n",
      "  (2356, 751)\t3.2475609481590357\n"
     ]
    }
   ],
   "source": [
    "# Veriyi işlemek için tanımlanan pipeline'ı uyguluyoruz ve işlenmiş veriyi X_processed değişkenine atıyoruz\n",
    "X_processed = pipeline.fit_transform(df)\n",
    "\n",
    "# İşlenmiş verinin sonuçlarını incelemek için yazdırıyoruz\n",
    "print(X_processed)"
   ]
  }
 ],
 "metadata": {
  "kernelspec": {
   "display_name": "Python 3 (ipykernel)",
   "language": "python",
   "name": "python3"
  },
  "language_info": {
   "codemirror_mode": {
    "name": "ipython",
    "version": 3
   },
   "file_extension": ".py",
   "mimetype": "text/x-python",
   "name": "python",
   "nbconvert_exporter": "python",
   "pygments_lexer": "ipython3",
   "version": "3.11.7"
  }
 },
 "nbformat": 4,
 "nbformat_minor": 5
}
